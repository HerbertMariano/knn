{
 "cells": [
  {
   "cell_type": "code",
   "execution_count": 1,
   "metadata": {},
   "outputs": [],
   "source": [
    "import numpy as np\n",
    "import pandas as pd\n",
    "from sklearn.metrics import mean_squared_error"
   ]
  },
  {
   "cell_type": "code",
   "execution_count": 2,
   "metadata": {},
   "outputs": [],
   "source": [
    "def mse(predictions, targets):\n",
    "    diff = predictions - targets\n",
    "    squared_diff = np.square(diff)\n",
    "    mean_squared_diff = np.mean(squared_diff)\n",
    "    return mean_squared_diff"
   ]
  },
  {
   "cell_type": "code",
   "execution_count": 3,
   "metadata": {},
   "outputs": [],
   "source": [
    "def cosine_similarity(vector1, vector2):\n",
    "    dot_product = np.dot(vector1, vector2)\n",
    "    norm1 = np.linalg.norm(vector1)\n",
    "    norm2 = np.linalg.norm(vector2)\n",
    "    return dot_product / (norm1 * norm2)"
   ]
  },
  {
   "cell_type": "code",
   "execution_count": 4,
   "metadata": {},
   "outputs": [],
   "source": [
    "def pearson_similarity(vector1, vector2):\n",
    "    mean1 = np.mean(vector1)\n",
    "    mean2 = np.mean(vector2)\n",
    "    centered1 = vector1 - mean1\n",
    "    centered2 = vector2 - mean2\n",
    "    numerator = np.dot(centered1, centered2)\n",
    "    denominator = np.linalg.norm(centered1) * np.linalg.norm(centered2)\n",
    "    if denominator == 0:\n",
    "        return 0\n",
    "    return numerator / denominator"
   ]
  },
  {
   "cell_type": "code",
   "execution_count": 5,
   "metadata": {},
   "outputs": [],
   "source": [
    "def user_based_knn(matrix, k, similarity_measure):\n",
    "    num_users = matrix.shape[0]\n",
    "    predictions = np.zeros_like(matrix)\n",
    "\n",
    "    for i in range(num_users):\n",
    "        similarities = []\n",
    "\n",
    "        for j in range(num_users):\n",
    "            if i != j:\n",
    "                similarity = similarity_measure(matrix[i], matrix[j])\n",
    "                similarities.append((j, similarity))\n",
    "\n",
    "        similarities.sort(key=lambda x: x[1], reverse=True)\n",
    "        neighbors = similarities[:k]\n",
    "\n",
    "        for item in range(matrix.shape[1]):\n",
    "            rating_sum = 0.0\n",
    "            weight_sum = 0.0\n",
    "\n",
    "            for neighbor in neighbors:\n",
    "                neighbor_index = neighbor[0]\n",
    "                similarity = neighbor[1]\n",
    "\n",
    "                rating_sum += similarity * matrix[neighbor_index, item]\n",
    "                weight_sum += similarity\n",
    "\n",
    "            if weight_sum != 0:\n",
    "                predictions[i, item] = rating_sum / weight_sum\n",
    "\n",
    "    return predictions"
   ]
  },
  {
   "cell_type": "code",
   "execution_count": 6,
   "metadata": {},
   "outputs": [],
   "source": [
    "np.random.seed(42)\n",
    "num_users = 4242\n",
    "num_items = 135\n",
    "ratings = np.random.randint(1, 6, size=(num_users, num_items))"
   ]
  },
  {
   "cell_type": "code",
   "execution_count": 7,
   "metadata": {},
   "outputs": [],
   "source": [
    "k_values = range(1, 7)\n",
    "results = []\n",
    "\n",
    "for k in k_values:\n",
    "    \n",
    "    predictions_cosine = user_based_knn(ratings, k, cosine_similarity)\n",
    "    rmse_cosine = np.sqrt(mse(ratings, predictions_cosine))\n",
    "        \n",
    "    predictions_pearson = user_based_knn(ratings, k, pearson_similarity)\n",
    "    rmse_pearson = np.sqrt(mse(ratings, predictions_pearson))\n",
    "    \n",
    "    results.append([k, rmse_cosine, rmse_pearson])\n"
   ]
  },
  {
   "cell_type": "code",
   "execution_count": 8,
   "metadata": {},
   "outputs": [
    {
     "name": "stdout",
     "output_type": "stream",
     "text": [
      "   K  RMSE (Cossine Similarity)  RMSE (Pearson Similarity)\n",
      "0  1                   1.666012                   1.667589\n",
      "1  2                   1.459345                   1.473817\n",
      "2  3                   1.376565                   1.394930\n",
      "3  4                   1.331280                   1.349565\n",
      "4  5                   1.304557                   1.320162\n",
      "5  6                   1.287045                   1.300491\n"
     ]
    }
   ],
   "source": [
    "df_results = pd.DataFrame(results, columns=['K', 'RMSE (Cossine Similarity)', 'RMSE (Pearson Similarity)'])\n",
    "print(df_results)"
   ]
  },
  {
   "cell_type": "code",
   "execution_count": 9,
   "metadata": {},
   "outputs": [],
   "source": [
    "df_results.to_csv('resul.csv')"
   ]
  }
 ],
 "metadata": {
  "kernelspec": {
   "display_name": "torch_test",
   "language": "python",
   "name": "python3"
  },
  "language_info": {
   "codemirror_mode": {
    "name": "ipython",
    "version": 3
   },
   "file_extension": ".py",
   "mimetype": "text/x-python",
   "name": "python",
   "nbconvert_exporter": "python",
   "pygments_lexer": "ipython3",
   "version": "3.10.11"
  },
  "orig_nbformat": 4
 },
 "nbformat": 4,
 "nbformat_minor": 2
}
